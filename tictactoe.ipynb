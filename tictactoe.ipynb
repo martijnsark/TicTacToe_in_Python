{
 "cells": [
  {
   "cell_type": "code",
   "execution_count": 1,
   "metadata": {},
   "outputs": [
    {
     "data": {
      "text/plain": [
       "CompletedProcess(args=['python', 'tictactoe.py'], returncode=0)"
      ]
     },
     "execution_count": 1,
     "metadata": {},
     "output_type": "execute_result"
    }
   ],
   "source": [
    "import subprocess\n",
    "\n",
    "# Define the path to your PyCharm script\n",
    "script_path = \"tictactoe.py\"\n",
    "\n",
    "# Execute the PyCharm script using subprocess\n",
    "subprocess.run([\"python\", script_path])"
   ]
  }
 ],
 "metadata": {
  "kernelspec": {
   "display_name": "MartEnv1",
   "language": "python",
   "name": "python3"
  },
  "language_info": {
   "codemirror_mode": {
    "name": "ipython",
    "version": 3
   },
   "file_extension": ".py",
   "mimetype": "text/x-python",
   "name": "python",
   "nbconvert_exporter": "python",
   "pygments_lexer": "ipython3",
   "version": "3.11.8"
  }
 },
 "nbformat": 4,
 "nbformat_minor": 2
}
